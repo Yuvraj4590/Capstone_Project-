{
 "cells": [
  {
   "cell_type": "code",
   "execution_count": 17,
   "id": "255371db-d7df-4734-aa24-abf50fae80a0",
   "metadata": {},
   "outputs": [
    {
     "data": {
      "text/html": [
       "<div>\n",
       "<style scoped>\n",
       "    .dataframe tbody tr th:only-of-type {\n",
       "        vertical-align: middle;\n",
       "    }\n",
       "\n",
       "    .dataframe tbody tr th {\n",
       "        vertical-align: top;\n",
       "    }\n",
       "\n",
       "    .dataframe thead th {\n",
       "        text-align: right;\n",
       "    }\n",
       "</style>\n",
       "<table border=\"1\" class=\"dataframe\">\n",
       "  <thead>\n",
       "    <tr style=\"text-align: right;\">\n",
       "      <th></th>\n",
       "      <th>Sl No</th>\n",
       "      <th>Sample ID</th>\n",
       "      <th>Age</th>\n",
       "      <th>Gender</th>\n",
       "      <th>inter canine distance intraoral</th>\n",
       "      <th>intercanine distance casts</th>\n",
       "      <th>right canine width intraoral</th>\n",
       "      <th>right canine width casts</th>\n",
       "      <th>left canine width intraoral</th>\n",
       "      <th>left canine width casts</th>\n",
       "      <th>right canine index intra oral</th>\n",
       "      <th>right canine index casts</th>\n",
       "      <th>left canine index intraoral</th>\n",
       "      <th>left canine index casts</th>\n",
       "    </tr>\n",
       "  </thead>\n",
       "  <tbody>\n",
       "    <tr>\n",
       "      <th>0</th>\n",
       "      <td>1</td>\n",
       "      <td>NaN</td>\n",
       "      <td>24</td>\n",
       "      <td>Female</td>\n",
       "      <td>25.06</td>\n",
       "      <td>25.05</td>\n",
       "      <td>6.08</td>\n",
       "      <td>6.08</td>\n",
       "      <td>6.09</td>\n",
       "      <td>6.10</td>\n",
       "      <td>0.242</td>\n",
       "      <td>0.242</td>\n",
       "      <td>0.242</td>\n",
       "      <td>0.241</td>\n",
       "    </tr>\n",
       "    <tr>\n",
       "      <th>1</th>\n",
       "      <td>2</td>\n",
       "      <td>NaN</td>\n",
       "      <td>22</td>\n",
       "      <td>Female</td>\n",
       "      <td>25.78</td>\n",
       "      <td>25.79</td>\n",
       "      <td>6.13</td>\n",
       "      <td>6.13</td>\n",
       "      <td>6.33</td>\n",
       "      <td>6.33</td>\n",
       "      <td>0.237</td>\n",
       "      <td>0.237</td>\n",
       "      <td>0.247</td>\n",
       "      <td>0.247</td>\n",
       "    </tr>\n",
       "    <tr>\n",
       "      <th>2</th>\n",
       "      <td>3</td>\n",
       "      <td>NaN</td>\n",
       "      <td>23</td>\n",
       "      <td>Female</td>\n",
       "      <td>23.83</td>\n",
       "      <td>23.83</td>\n",
       "      <td>5.91</td>\n",
       "      <td>5.96</td>\n",
       "      <td>6.28</td>\n",
       "      <td>6.28</td>\n",
       "      <td>0.248</td>\n",
       "      <td>0.248</td>\n",
       "      <td>0.264</td>\n",
       "      <td>0.264</td>\n",
       "    </tr>\n",
       "    <tr>\n",
       "      <th>3</th>\n",
       "      <td>4</td>\n",
       "      <td>NaN</td>\n",
       "      <td>20</td>\n",
       "      <td>Female</td>\n",
       "      <td>26.12</td>\n",
       "      <td>26.12</td>\n",
       "      <td>6.08</td>\n",
       "      <td>6.08</td>\n",
       "      <td>6.56</td>\n",
       "      <td>6.56</td>\n",
       "      <td>0.232</td>\n",
       "      <td>0.232</td>\n",
       "      <td>0.250</td>\n",
       "      <td>0.250</td>\n",
       "    </tr>\n",
       "    <tr>\n",
       "      <th>4</th>\n",
       "      <td>5</td>\n",
       "      <td>NaN</td>\n",
       "      <td>20</td>\n",
       "      <td>Female</td>\n",
       "      <td>26.36</td>\n",
       "      <td>26.41</td>\n",
       "      <td>6.09</td>\n",
       "      <td>6.09</td>\n",
       "      <td>6.50</td>\n",
       "      <td>6.50</td>\n",
       "      <td>0.231</td>\n",
       "      <td>0.231</td>\n",
       "      <td>0.246</td>\n",
       "      <td>0.246</td>\n",
       "    </tr>\n",
       "  </tbody>\n",
       "</table>\n",
       "</div>"
      ],
      "text/plain": [
       "   Sl No  Sample ID  Age  Gender  inter canine distance intraoral  \\\n",
       "0      1        NaN   24  Female                            25.06   \n",
       "1      2        NaN   22  Female                            25.78   \n",
       "2      3        NaN   23  Female                            23.83   \n",
       "3      4        NaN   20  Female                            26.12   \n",
       "4      5        NaN   20  Female                            26.36   \n",
       "\n",
       "   intercanine distance casts  right canine width intraoral  \\\n",
       "0                       25.05                          6.08   \n",
       "1                       25.79                          6.13   \n",
       "2                       23.83                          5.91   \n",
       "3                       26.12                          6.08   \n",
       "4                       26.41                          6.09   \n",
       "\n",
       "   right canine width casts  left canine width intraoral  \\\n",
       "0                      6.08                         6.09   \n",
       "1                      6.13                         6.33   \n",
       "2                      5.96                         6.28   \n",
       "3                      6.08                         6.56   \n",
       "4                      6.09                         6.50   \n",
       "\n",
       "   left canine width casts  right canine index intra oral  \\\n",
       "0                     6.10                          0.242   \n",
       "1                     6.33                          0.237   \n",
       "2                     6.28                          0.248   \n",
       "3                     6.56                          0.232   \n",
       "4                     6.50                          0.231   \n",
       "\n",
       "   right canine index casts  left canine index intraoral  \\\n",
       "0                     0.242                        0.242   \n",
       "1                     0.237                        0.247   \n",
       "2                     0.248                        0.264   \n",
       "3                     0.232                        0.250   \n",
       "4                     0.231                        0.246   \n",
       "\n",
       "   left canine index casts  \n",
       "0                    0.241  \n",
       "1                    0.247  \n",
       "2                    0.264  \n",
       "3                    0.250  \n",
       "4                    0.246  "
      ]
     },
     "execution_count": 17,
     "metadata": {},
     "output_type": "execute_result"
    }
   ],
   "source": [
    "import pandas as pd\n",
    "from sklearn.preprocessing import LabelEncoder\n",
    "\n",
    "df = pd.read_csv(\"Dentistry Dataset.csv\")\n",
    "(df.head())\n"
   ]
  },
  {
   "cell_type": "code",
   "execution_count": 21,
   "id": "3f41f06c-7d2b-47d0-a261-13d21505bb5f",
   "metadata": {},
   "outputs": [
    {
     "data": {
      "text/plain": [
       "(1100, 14)"
      ]
     },
     "execution_count": 21,
     "metadata": {},
     "output_type": "execute_result"
    }
   ],
   "source": [
    "import pandas as pd\n",
    "from sklearn.preprocessing import LabelEncoder\n",
    "\n",
    "df = pd.read_csv(\"Dentistry Dataset.csv\")\n",
    "\n",
    "# Get the number of rows and columns\n",
    "num_rows, num_columns = df.shape\n",
    "df.shape"
   ]
  },
  {
   "cell_type": "code",
   "execution_count": 31,
   "id": "d3853d20-3b8f-4af8-a492-9708770c2b41",
   "metadata": {},
   "outputs": [
    {
     "data": {
      "text/plain": [
       "Sl No                                 0\n",
       "Sample ID                          1100\n",
       "Age                                   0\n",
       "Gender                                0\n",
       "inter canine distance intraoral       0\n",
       "intercanine distance casts            0\n",
       "right canine width intraoral          0\n",
       "right canine width casts              0\n",
       "left canine width intraoral           0\n",
       "left canine width casts               0\n",
       "right canine index intra oral         0\n",
       "right canine index casts              0\n",
       "left canine index intraoral           0\n",
       "left canine index casts               0\n",
       "dtype: int64"
      ]
     },
     "execution_count": 31,
     "metadata": {},
     "output_type": "execute_result"
    }
   ],
   "source": [
    "# Handle missing values\n",
    "missing_values = df.isnull().sum()\n",
    "(missing_values)"
   ]
  },
  {
   "cell_type": "code",
   "execution_count": 67,
   "id": "67088865-8ff8-460c-ad6d-4715fc02924b",
   "metadata": {},
   "outputs": [
    {
     "data": {
      "text/plain": [
       "0       6\n",
       "1       4\n",
       "2       5\n",
       "3       2\n",
       "4       2\n",
       "       ..\n",
       "1095    6\n",
       "1096    4\n",
       "1097    7\n",
       "1098    3\n",
       "1099    5\n",
       "Name: Age, Length: 1100, dtype: int64"
      ]
     },
     "execution_count": 67,
     "metadata": {},
     "output_type": "execute_result"
    }
   ],
   "source": [
    "import pandas as pd\n",
    "from sklearn.preprocessing import LabelEncoder\n",
    "\n",
    "\n",
    "df = pd.read_csv(\"Dentistry Dataset.csv\")\n",
    "\n",
    "# Create a label encoder\n",
    "label_encoder = LabelEncoder()\n",
    "\n",
    "# Encode the 'Age' column\n",
    "df['Age'] = label_encoder.fit_transform(df['Age'])\n",
    "\n",
    "# Access the 'Age' column\n",
    "(df['Age'])"
   ]
  },
  {
   "cell_type": "code",
   "execution_count": 59,
   "id": "1b9bdb55-b3d6-4aff-be8d-41bb3a8eb391",
   "metadata": {},
   "outputs": [
    {
     "name": "stdout",
     "output_type": "stream",
     "text": [
      "Shape of X: (1100, 13)\n",
      "Shape of y: (1100,)\n"
     ]
    }
   ],
   "source": [
    "import pandas as pd\n",
    "from sklearn.preprocessing import Normalizer\n",
    "\n",
    "df = pd.read_csv(\"Dentistry Dataset.csv\")\n",
    "\n",
    "# Split independent and dependent variables i.e. X and Y\n",
    "\n",
    "X = df.drop('Age', axis=1)                            # Independent variables\n",
    "y = df['Gender']                                      # Dependent variable\n",
    "\n",
    "# Print the shapes of X and y\n",
    "(\"Shape of X:\", X.shape)\n",
    "(\"Shape of y:\", y.shape)\n"
   ]
  },
  {
   "cell_type": "code",
   "execution_count": 10,
   "id": "7100a9f7-2925-4155-8f80-6d78817cfb24",
   "metadata": {},
   "outputs": [
    {
     "ename": "KeyError",
     "evalue": "'Inter-canine Distance Intraoral'",
     "output_type": "error",
     "traceback": [
      "\u001b[0;31m---------------------------------------------------------------------------\u001b[0m",
      "\u001b[0;31mKeyError\u001b[0m                                  Traceback (most recent call last)",
      "File \u001b[0;32m/opt/conda/envs/anaconda-panel-2023.05-py310/lib/python3.11/site-packages/pandas/core/indexes/base.py:3653\u001b[0m, in \u001b[0;36mIndex.get_loc\u001b[0;34m(self, key)\u001b[0m\n\u001b[1;32m   3652\u001b[0m \u001b[38;5;28;01mtry\u001b[39;00m:\n\u001b[0;32m-> 3653\u001b[0m     \u001b[38;5;28;01mreturn\u001b[39;00m \u001b[38;5;28mself\u001b[39m\u001b[38;5;241m.\u001b[39m_engine\u001b[38;5;241m.\u001b[39mget_loc(casted_key)\n\u001b[1;32m   3654\u001b[0m \u001b[38;5;28;01mexcept\u001b[39;00m \u001b[38;5;167;01mKeyError\u001b[39;00m \u001b[38;5;28;01mas\u001b[39;00m err:\n",
      "File \u001b[0;32m/opt/conda/envs/anaconda-panel-2023.05-py310/lib/python3.11/site-packages/pandas/_libs/index.pyx:147\u001b[0m, in \u001b[0;36mpandas._libs.index.IndexEngine.get_loc\u001b[0;34m()\u001b[0m\n",
      "File \u001b[0;32m/opt/conda/envs/anaconda-panel-2023.05-py310/lib/python3.11/site-packages/pandas/_libs/index.pyx:176\u001b[0m, in \u001b[0;36mpandas._libs.index.IndexEngine.get_loc\u001b[0;34m()\u001b[0m\n",
      "File \u001b[0;32mpandas/_libs/hashtable_class_helper.pxi:7080\u001b[0m, in \u001b[0;36mpandas._libs.hashtable.PyObjectHashTable.get_item\u001b[0;34m()\u001b[0m\n",
      "File \u001b[0;32mpandas/_libs/hashtable_class_helper.pxi:7088\u001b[0m, in \u001b[0;36mpandas._libs.hashtable.PyObjectHashTable.get_item\u001b[0;34m()\u001b[0m\n",
      "\u001b[0;31mKeyError\u001b[0m: 'Inter-canine Distance Intraoral'",
      "\nThe above exception was the direct cause of the following exception:\n",
      "\u001b[0;31mKeyError\u001b[0m                                  Traceback (most recent call last)",
      "Cell \u001b[0;32mIn[10], line 6\u001b[0m\n\u001b[1;32m      4\u001b[0m \u001b[38;5;66;03m# Split into independent (X) and dependent (y) variables\u001b[39;00m\n\u001b[1;32m      5\u001b[0m X \u001b[38;5;241m=\u001b[39m df\u001b[38;5;241m.\u001b[39mdrop(\u001b[38;5;124m'\u001b[39m\u001b[38;5;124mAge\u001b[39m\u001b[38;5;124m'\u001b[39m, axis\u001b[38;5;241m=\u001b[39m\u001b[38;5;241m1\u001b[39m)  \u001b[38;5;66;03m# Drop the target variable column\u001b[39;00m\n\u001b[0;32m----> 6\u001b[0m y \u001b[38;5;241m=\u001b[39m df[\u001b[38;5;124m'\u001b[39m\u001b[38;5;124mInter-canine Distance Intraoral\u001b[39m\u001b[38;5;124m'\u001b[39m]                \u001b[38;5;66;03m# Assuming this is the dependent variable\u001b[39;00m\n\u001b[1;32m     10\u001b[0m \u001b[38;5;66;03m# Display the normalized data\u001b[39;00m\n\u001b[1;32m     11\u001b[0m \u001b[38;5;28mprint\u001b[39m(X_normalized_df\u001b[38;5;241m.\u001b[39mhead())\n",
      "File \u001b[0;32m/opt/conda/envs/anaconda-panel-2023.05-py310/lib/python3.11/site-packages/pandas/core/frame.py:3761\u001b[0m, in \u001b[0;36mDataFrame.__getitem__\u001b[0;34m(self, key)\u001b[0m\n\u001b[1;32m   3759\u001b[0m \u001b[38;5;28;01mif\u001b[39;00m \u001b[38;5;28mself\u001b[39m\u001b[38;5;241m.\u001b[39mcolumns\u001b[38;5;241m.\u001b[39mnlevels \u001b[38;5;241m>\u001b[39m \u001b[38;5;241m1\u001b[39m:\n\u001b[1;32m   3760\u001b[0m     \u001b[38;5;28;01mreturn\u001b[39;00m \u001b[38;5;28mself\u001b[39m\u001b[38;5;241m.\u001b[39m_getitem_multilevel(key)\n\u001b[0;32m-> 3761\u001b[0m indexer \u001b[38;5;241m=\u001b[39m \u001b[38;5;28mself\u001b[39m\u001b[38;5;241m.\u001b[39mcolumns\u001b[38;5;241m.\u001b[39mget_loc(key)\n\u001b[1;32m   3762\u001b[0m \u001b[38;5;28;01mif\u001b[39;00m is_integer(indexer):\n\u001b[1;32m   3763\u001b[0m     indexer \u001b[38;5;241m=\u001b[39m [indexer]\n",
      "File \u001b[0;32m/opt/conda/envs/anaconda-panel-2023.05-py310/lib/python3.11/site-packages/pandas/core/indexes/base.py:3655\u001b[0m, in \u001b[0;36mIndex.get_loc\u001b[0;34m(self, key)\u001b[0m\n\u001b[1;32m   3653\u001b[0m     \u001b[38;5;28;01mreturn\u001b[39;00m \u001b[38;5;28mself\u001b[39m\u001b[38;5;241m.\u001b[39m_engine\u001b[38;5;241m.\u001b[39mget_loc(casted_key)\n\u001b[1;32m   3654\u001b[0m \u001b[38;5;28;01mexcept\u001b[39;00m \u001b[38;5;167;01mKeyError\u001b[39;00m \u001b[38;5;28;01mas\u001b[39;00m err:\n\u001b[0;32m-> 3655\u001b[0m     \u001b[38;5;28;01mraise\u001b[39;00m \u001b[38;5;167;01mKeyError\u001b[39;00m(key) \u001b[38;5;28;01mfrom\u001b[39;00m \u001b[38;5;21;01merr\u001b[39;00m\n\u001b[1;32m   3656\u001b[0m \u001b[38;5;28;01mexcept\u001b[39;00m \u001b[38;5;167;01mTypeError\u001b[39;00m:\n\u001b[1;32m   3657\u001b[0m     \u001b[38;5;66;03m# If we have a listlike key, _check_indexing_error will raise\u001b[39;00m\n\u001b[1;32m   3658\u001b[0m     \u001b[38;5;66;03m#  InvalidIndexError. Otherwise we fall through and re-raise\u001b[39;00m\n\u001b[1;32m   3659\u001b[0m     \u001b[38;5;66;03m#  the TypeError.\u001b[39;00m\n\u001b[1;32m   3660\u001b[0m     \u001b[38;5;28mself\u001b[39m\u001b[38;5;241m.\u001b[39m_check_indexing_error(key)\n",
      "\u001b[0;31mKeyError\u001b[0m: 'Inter-canine Distance Intraoral'"
     ]
    }
   ],
   "source": [
    "import pandas as pd\n",
    "from sklearn.preprocessing import Normalizer\n",
    "\n",
    "# Split into independent (X) and dependent (y) variables\n",
    "X = df.drop('Age', axis=1)  # Drop the target variable column\n",
    "y = df['Inter-canine Distance Intraoral']                # Assuming this is the dependent variable\n",
    "\n",
    "\n",
    "\n",
    "# Display the normalized data\n",
    "print(X_normalized_df.head())\n"
   ]
  },
  {
   "cell_type": "code",
   "execution_count": 6,
   "id": "7fdcb62d-29a8-4ca1-9dc1-5fb70ee24608",
   "metadata": {},
   "outputs": [
    {
     "data": {
      "image/png": "[encoded data removed]",
      "text/plain": [
       "<Figure size 640x480 with 1 Axes>"
      ]
     },
     "metadata": {},
     "output_type": "display_data"
    }
   ],
   "source": [
    "import pandas as pd\n",
    "import matplotlib.pyplot as plt\n",
    "\n",
    "# Load the data from a CSV file\n",
    "df = pd.read_csv(\"Dentistry Dataset.csv\")\n",
    "\n",
    "\n",
    "plt.scatter(df['Age'], df['inter canine distance intraoral'])\n",
    "plt.title('Scatter Plot of Age vs. Inter-canine Distance')\n",
    "plt.xlabel('Age')\n",
    "plt.ylabel('Inter-canine Distance Intraoral')\n",
    "plt.show()\n"
   ]
  },
  {
   "cell_type": "code",
   "execution_count": 24,
   "id": "c12290a6-a4a0-480c-9e6c-c1692e5c5dcf",
   "metadata": {
    "scrolled": true
   },
   "outputs": [
    {
     "name": "stdout",
     "output_type": "stream",
     "text": [
      "\n",
      "Updated DataFrame after dropping unwanted columns:\n",
      "   Sl No  Sample ID  Age  inter canine distance intraoral  \\\n",
      "0      1        NaN   24                            25.06   \n",
      "1      2        NaN   22                            25.78   \n",
      "2      3        NaN   23                            23.83   \n",
      "3      4        NaN   20                            26.12   \n",
      "4      5        NaN   20                            26.36   \n",
      "\n",
      "   intercanine distance casts  right canine width intraoral  \\\n",
      "0                       25.05                          6.08   \n",
      "1                       25.79                          6.13   \n",
      "2                       23.83                          5.91   \n",
      "3                       26.12                          6.08   \n",
      "4                       26.41                          6.09   \n",
      "\n",
      "   left canine width intraoral  right canine index intra oral  \\\n",
      "0                         6.09                          0.242   \n",
      "1                         6.33                          0.237   \n",
      "2                         6.28                          0.248   \n",
      "3                         6.56                          0.232   \n",
      "4                         6.50                          0.231   \n",
      "\n",
      "   left canine index intraoral  \n",
      "0                        0.242  \n",
      "1                        0.247  \n",
      "2                        0.264  \n",
      "3                        0.250  \n",
      "4                        0.246  \n"
     ]
    },
    {
     "data": {
      "image/png": "[encoded data removed]",
      "text/plain": [
       "<Figure size 640x480 with 1 Axes>"
      ]
     },
     "metadata": {},
     "output_type": "display_data"
    }
   ],
   "source": [
    "import pandas as pd\n",
    "import matplotlib.pyplot as plt\n",
    "\n",
    "# Load the data from a CSV file\n",
    "df = pd.read_csv(\"Dentistry Dataset.csv\")\n",
    "\n",
    "# Display the first few rows of the dataframe\n",
    "(\"Original DataFrame:\")\n",
    "(df.head())\n",
    "\n",
    "\n",
    "df.drop(columns=unwanted_columns, inplace=True)\n",
    "\n",
    "# Display the updated dataframe\n",
    "print(\"\\nUpdated DataFrame after dropping unwanted columns:\")\n",
    "print(df.head())\n",
    "\n",
    "#  scatter plot for the remaining important variables\n",
    "plt.scatter(df['Age'], df['inter canine distance intraoral'])\n",
    "plt.title('Scatter Plot of Age vs. Inter-canine Distance')\n",
    "plt.xlabel('Age')\n",
    "plt.ylabel('Inter-canine Distance Intraoral')\n",
    "plt.show()\n"
   ]
  },
  {
   "cell_type": "code",
   "execution_count": 34,
   "id": "e28c0765-834a-4100-abe6-0ef46a6dd9ce",
   "metadata": {},
   "outputs": [
    {
     "name": "stdout",
     "output_type": "stream",
     "text": [
      "Original DataFrame:\n",
      "   Sl No  Sample ID  Age  Gender  inter canine distance intraoral  \\\n",
      "0      1        NaN   24  Female                            25.06   \n",
      "1      2        NaN   22  Female                            25.78   \n",
      "2      3        NaN   23  Female                            23.83   \n",
      "3      4        NaN   20  Female                            26.12   \n",
      "4      5        NaN   20  Female                            26.36   \n",
      "\n",
      "   intercanine distance casts  right canine width intraoral  \\\n",
      "0                       25.05                          6.08   \n",
      "1                       25.79                          6.13   \n",
      "2                       23.83                          5.91   \n",
      "3                       26.12                          6.08   \n",
      "4                       26.41                          6.09   \n",
      "\n",
      "   right canine width casts  left canine width intraoral  \\\n",
      "0                      6.08                         6.09   \n",
      "1                      6.13                         6.33   \n",
      "2                      5.96                         6.28   \n",
      "3                      6.08                         6.56   \n",
      "4                      6.09                         6.50   \n",
      "\n",
      "   left canine width casts  right canine index intra oral  \\\n",
      "0                     6.10                          0.242   \n",
      "1                     6.33                          0.237   \n",
      "2                     6.28                          0.248   \n",
      "3                     6.56                          0.232   \n",
      "4                     6.50                          0.231   \n",
      "\n",
      "   right canine index casts  left canine index intraoral  \\\n",
      "0                     0.242                        0.242   \n",
      "1                     0.237                        0.247   \n",
      "2                     0.248                        0.264   \n",
      "3                     0.232                        0.250   \n",
      "4                     0.231                        0.246   \n",
      "\n",
      "   left canine index casts  \n",
      "0                    0.241  \n",
      "1                    0.247  \n",
      "2                    0.264  \n",
      "3                    0.250  \n",
      "4                    0.246  \n"
     ]
    },
    {
     "ename": "NameError",
     "evalue": "name 'columns_to_drop' is not defined",
     "output_type": "error",
     "traceback": [
      "\u001b[0;31m---------------------------------------------------------------------------\u001b[0m",
      "\u001b[0;31mNameError\u001b[0m                                 Traceback (most recent call last)",
      "Cell \u001b[0;32mIn[34], line 15\u001b[0m\n\u001b[1;32m     10\u001b[0m \u001b[38;5;28mprint\u001b[39m(df\u001b[38;5;241m.\u001b[39mhead())\n\u001b[1;32m     14\u001b[0m \u001b[38;5;66;03m# Drop the identified columns\u001b[39;00m\n\u001b[0;32m---> 15\u001b[0m df\u001b[38;5;241m.\u001b[39mdrop(columns\u001b[38;5;241m=\u001b[39mcolumns_to_drop, inplace\u001b[38;5;241m=\u001b[39m\u001b[38;5;28;01mTrue\u001b[39;00m)\n\u001b[1;32m     17\u001b[0m \u001b[38;5;66;03m# Display the updated dataframe\u001b[39;00m\n\u001b[1;32m     18\u001b[0m \u001b[38;5;28mprint\u001b[39m(\u001b[38;5;124m\"\u001b[39m\u001b[38;5;130;01m\\n\u001b[39;00m\u001b[38;5;124mUpdated DataFrame after dropping highly correlated columns:\u001b[39m\u001b[38;5;124m\"\u001b[39m)\n",
      "\u001b[0;31mNameError\u001b[0m: name 'columns_to_drop' is not defined"
     ]
    }
   ],
   "source": [
    "import pandas as pd\n",
    "import numpy as np\n",
    "import matplotlib.pyplot as plt\n",
    "\n",
    "# Load the data from a CSV file\n",
    "df = pd.read_csv(\"Dentistry Dataset.csv\")\n",
    "\n",
    "# Display the first few rows of the dataframe\n",
    "print(\"Original DataFrame:\")\n",
    "print(df.head())\n",
    "\n",
    "\n",
    "\n",
    "# Drop the identified columns\n",
    "df.drop(columns=columns_to_drop, inplace=True)\n",
    "\n",
    "# Display the updated dataframe\n",
    "print(\"\\nUpdated DataFrame after dropping highly correlated columns:\")\n",
    "print(df.head())\n",
    "\n",
    "# Create a scatter plot for the remaining important variables\n",
    "plt.scatter(df['Age'], df['inter canine distance intraoral'])\n",
    "plt.title('Scatter Plot of Age vs. Inter-canine Distance')\n",
    "plt.xlabel('Age')\n",
    "plt.ylabel('Inter-canine Distance Intraoral')\n",
    "plt.show()\n"
   ]
  },
  {
   "cell_type": "code",
   "execution_count": 6,
   "id": "ec12a33f-321e-4cd4-9b08-a68ca4a2ab4a",
   "metadata": {},
   "outputs": [
    {
     "data": {
      "text/plain": [
       "'Testing set shape: (220, 13), (220,)'"
      ]
     },
     "execution_count": 6,
     "metadata": {},
     "output_type": "execute_result"
    }
   ],
   "source": [
    "import pandas as pd\n",
    "from sklearn.model_selection import train_test_split\n",
    "\n",
    "df = pd.read_csv(\"Dentistry Dataset.csv\")\n",
    "\n",
    "# Split the data into features and target variable\n",
    "X = df.drop(['right canine width intraoral'], axis=1)  # Features\n",
    "y = df['right canine width intraoral']  # Target variable\n",
    "\n",
    "# Split the dataset into training and testing sets\n",
    "X_train, X_test, y_train, y_test = train_test_split(X, y, test_size=0.2, random_state=42)\n",
    "\n",
    "# Check the shapes of the resulting sets\n",
    "(f\"Training set shape: {X_train.shape}, {y_train.shape}\")\n",
    "(f\"Testing set shape: {X_test.shape}, {y_test.shape}\")\n"
   ]
  },
  {
   "cell_type": "code",
   "execution_count": 18,
   "id": "6ef70c97-ea8c-4556-a116-5454bd160c87",
   "metadata": {},
   "outputs": [
    {
     "ename": "ModuleNotFoundError",
     "evalue": "No module named 'xgboost'",
     "output_type": "error",
     "traceback": [
      "\u001b[0;31m---------------------------------------------------------------------------\u001b[0m",
      "\u001b[0;31mModuleNotFoundError\u001b[0m                       Traceback (most recent call last)",
      "Cell \u001b[0;32mIn[18], line 6\u001b[0m\n\u001b[1;32m      4\u001b[0m \u001b[38;5;28;01mfrom\u001b[39;00m \u001b[38;5;21;01msklearn\u001b[39;00m\u001b[38;5;21;01m.\u001b[39;00m\u001b[38;5;21;01mtree\u001b[39;00m \u001b[38;5;28;01mimport\u001b[39;00m DecisionTreeClassifier\n\u001b[1;32m      5\u001b[0m \u001b[38;5;28;01mfrom\u001b[39;00m \u001b[38;5;21;01msklearn\u001b[39;00m\u001b[38;5;21;01m.\u001b[39;00m\u001b[38;5;21;01mensemble\u001b[39;00m \u001b[38;5;28;01mimport\u001b[39;00m RandomForestClassifier\n\u001b[0;32m----> 6\u001b[0m \u001b[38;5;28;01mfrom\u001b[39;00m \u001b[38;5;21;01mxgboost\u001b[39;00m \u001b[38;5;28;01mimport\u001b[39;00m XGBClassifier\n\u001b[1;32m      7\u001b[0m \u001b[38;5;28;01mfrom\u001b[39;00m \u001b[38;5;21;01msklearn\u001b[39;00m\u001b[38;5;21;01m.\u001b[39;00m\u001b[38;5;21;01mmetrics\u001b[39;00m \u001b[38;5;28;01mimport\u001b[39;00m accuracy_score, classification_report\n\u001b[1;32m     10\u001b[0m df \u001b[38;5;241m=\u001b[39m pd\u001b[38;5;241m.\u001b[39mread_csv(\u001b[38;5;124m\"\u001b[39m\u001b[38;5;124mDentistry Dataset.csv\u001b[39m\u001b[38;5;124m\"\u001b[39m)\n",
      "\u001b[0;31mModuleNotFoundError\u001b[0m: No module named 'xgboost'"
     ]
    }
   ],
   "source": [
    "import pandas as pd\n",
    "from sklearn.model_selection import train_test_split\n",
    "from sklearn.linear_model import LogisticRegression\n",
    "from sklearn.tree import DecisionTreeClassifier\n",
    "from sklearn.ensemble import RandomForestClassifier\n",
    "from xgboost import XGBClassifier\n",
    "from sklearn.metrics import accuracy_score, classification_report\n",
    "\n",
    "\n",
    "df = pd.read_csv(\"Dentistry Dataset.csv\")\n",
    "\n",
    "# Initialize the classifiers\n",
    "log_reg = LogisticRegression(max_iter=1000)\n",
    "dec_tree = DecisionTreeClassifier()\n",
    "rand_forest = RandomForestClassifier()\n",
    "xgb_model = XGBClassifier(use_label_encoder=False, eval_metric='mlogloss')\n",
    "\n",
    "# Fit the models\n",
    "log_reg.fit(X_train, y_train)\n",
    "dec_tree.fit(X_train, y_train)\n",
    "rand_forest.fit(X_train, y_train)\n",
    "xgb_model.fit(X_train, y_train)\n",
    "\n",
    "# Make predictions\n",
    "log_reg_preds = log_reg.predict(X_test)\n",
    "dec_tree_preds = dec_tree.predict(X_test)\n",
    "rand_forest_preds = rand_forest.predict(X_test)\n",
    "xgb_preds = xgb_model.predict(X_test)\n",
    "\n",
    "# Evaluate the models\n",
    "(\"Logistic Regression:\")\n",
    "(classification_report(y_test, log_reg_preds))\n",
    "\n",
    "(\"Decision Tree Classifier:\")\n",
    "(classification_report(y_test, dec_tree_preds))\n",
    "\n",
    "(\"Random Forest Classifier:\")\n",
    "(classification_report(y_test, rand_forest_preds))\n",
    "\n",
    "print(\"XGBoost Classifier:\")\n",
    "print(classification_report(y_test, xgb_preds))\n"
   ]
  },
  {
   "cell_type": "code",
   "execution_count": 30,
   "id": "132e24db-0e31-42fa-b6f4-eee1cccfd237",
   "metadata": {},
   "outputs": [
    {
     "ename": "IndentationError",
     "evalue": "unexpected indent (1787804311.py, line 13)",
     "output_type": "error",
     "traceback": [
      "\u001b[0;36m  Cell \u001b[0;32mIn[30], line 13\u001b[0;36m\u001b[0m\n\u001b[0;31m    for model, name in zip(models, model_names):\u001b[0m\n\u001b[0m    ^\u001b[0m\n\u001b[0;31mIndentationError\u001b[0m\u001b[0;31m:\u001b[0m unexpected indent\n"
     ]
    }
   ],
   "source": [
    "import pandas as pd\n",
    "from sklearn.model_selection import train_test_split\n",
    "from sklearn.linear_model import LogisticRegression\n",
    "from sklearn.tree import DecisionTreeClassifier\n",
    "from sklearn.ensemble import RandomForestClassifier\n",
    "from sklearn.metrics import accuracy_score, classification_report, confusion_matrix, roc_curve, roc_auc_score\n",
    "import matplotlib.pyplot as plt\n",
    "import seaborn as sns\n",
    "\n",
    "# Load the dataset\n",
    "df = pd.read_csv(\"Dentistry Dataset.csv\")\n",
    "\n",
    "  for model, name in zip(models, model_names):\n",
    "    model.fit(X_train, y_train)\n",
    "    y_pred = model.predict(X_test)\n",
    "    y_pred_prob = model.predict_proba(X_test)[:, 1]  # Get probabilities for ROC curve\n",
    "\n",
    "    # Confusion Matrix\n",
    "    cm = confusion_matrix(y_test, y_pred)\n",
    "    sns.heatmap(cm, annot=True, fmt='d', cmap='Blues', cbar=False)\n",
    "    plt.title(f'Confusion Matrix for {name}')\n",
    "    plt.xlabel('Predicted')\n",
    "    plt.ylabel('Actual')\n",
    "    plt.show()\n",
    "\n",
    "    # ROC Curve (for binary classification)\n",
    "    if len(set(y)) == 2:  # Ensure binary classification for ROC\n",
    "        fpr, tpr, _ = roc_curve(y_test, y_pred_prob)\n",
    "        auc = roc_auc_score(y_test, y_pred_prob)\n",
    "\n",
    " plt.figure()\n",
    " plt.plot(fpr, tpr, label=f'ROC Curve (AUC = {auc:.2f})')\n",
    " plt.plot([0, 1], [0, 1], 'k--')  # Diagonal line\n",
    "plt.xlabel('False Positive Rate')\n",
    "plt.ylabel('True Positive Rate')\n",
    "plt.title(f'ROC Curve for {name}')\n",
    "plt.legend()\n",
    "plt.show()\n",
    "\n",
    "    # Print the classification report\n",
    "(f\"Classification Report for {name}:\")\n",
    "(classification_report(y_test, y_pred))"
   ]
  },
  {
   "cell_type": "code",
   "execution_count": null,
   "id": "32215310-2c31-40fd-ad9f-926bec32cfb7",
   "metadata": {},
   "outputs": [],
   "source": []
  }
 ],
 "metadata": {
  "kernelspec": {
   "display_name": "anaconda-panel-2023.05-py310",
   "language": "python",
   "name": "conda-env-anaconda-panel-2023.05-py310-py"
  },
  "language_info": {
   "codemirror_mode": {
    "name": "ipython",
    "version": 3
   },
   "file_extension": ".py",
   "mimetype": "text/x-python",
   "name": "python",
   "nbconvert_exporter": "python",
   "pygments_lexer": "ipython3",
   "version": "3.11.5"
  }
 },
 "nbformat": 4,
 "nbformat_minor": 5
}
